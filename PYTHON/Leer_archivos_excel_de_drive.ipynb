{
  "nbformat": 4,
  "nbformat_minor": 0,
  "metadata": {
    "colab": {
      "provenance": [],
      "authorship_tag": "ABX9TyNh/UCSgsvmS3HSjvYmEmba",
      "include_colab_link": true
    },
    "kernelspec": {
      "name": "python3",
      "display_name": "Python 3"
    },
    "language_info": {
      "name": "python"
    }
  },
  "cells": [
    {
      "cell_type": "markdown",
      "metadata": {
        "id": "view-in-github",
        "colab_type": "text"
      },
      "source": [
        "<a href=\"https://colab.research.google.com/github/HenryZumaeta/MISCELANEAS/blob/Zeta/PYTHON/Leer_archivos_excel_de_drive.ipynb\" target=\"_parent\"><img src=\"https://colab.research.google.com/assets/colab-badge.svg\" alt=\"Open In Colab\"/></a>"
      ]
    },
    {
      "cell_type": "code",
      "execution_count": 8,
      "metadata": {
        "colab": {
          "base_uri": "https://localhost:8080/"
        },
        "id": "DRGQpLPzoUVw",
        "outputId": "d9e36194-8618-441d-a261-4dac9f01692c"
      },
      "outputs": [
        {
          "output_type": "stream",
          "name": "stdout",
          "text": [
            "Requirement already satisfied: gdown in /usr/local/lib/python3.10/dist-packages (5.1.0)\n",
            "Requirement already satisfied: beautifulsoup4 in /usr/local/lib/python3.10/dist-packages (from gdown) (4.12.3)\n",
            "Requirement already satisfied: filelock in /usr/local/lib/python3.10/dist-packages (from gdown) (3.14.0)\n",
            "Requirement already satisfied: requests[socks] in /usr/local/lib/python3.10/dist-packages (from gdown) (2.31.0)\n",
            "Requirement already satisfied: tqdm in /usr/local/lib/python3.10/dist-packages (from gdown) (4.66.4)\n",
            "Requirement already satisfied: soupsieve>1.2 in /usr/local/lib/python3.10/dist-packages (from beautifulsoup4->gdown) (2.5)\n",
            "Requirement already satisfied: charset-normalizer<4,>=2 in /usr/local/lib/python3.10/dist-packages (from requests[socks]->gdown) (3.3.2)\n",
            "Requirement already satisfied: idna<4,>=2.5 in /usr/local/lib/python3.10/dist-packages (from requests[socks]->gdown) (3.7)\n",
            "Requirement already satisfied: urllib3<3,>=1.21.1 in /usr/local/lib/python3.10/dist-packages (from requests[socks]->gdown) (2.0.7)\n",
            "Requirement already satisfied: certifi>=2017.4.17 in /usr/local/lib/python3.10/dist-packages (from requests[socks]->gdown) (2024.2.2)\n",
            "Requirement already satisfied: PySocks!=1.5.7,>=1.5.6 in /usr/local/lib/python3.10/dist-packages (from requests[socks]->gdown) (1.7.1)\n"
          ]
        },
        {
          "output_type": "stream",
          "name": "stderr",
          "text": [
            "Downloading...\n",
            "From (original): https://drive.google.com/uc?id=1A9IG5k3f3s97g-2QNPxPdtfrmbp4TM3R\n",
            "From (redirected): https://drive.google.com/uc?id=1A9IG5k3f3s97g-2QNPxPdtfrmbp4TM3R&confirm=t&uuid=0bb08e5d-b1e1-4e8f-92f3-84364b1e80b3\n",
            "To: /content/archivo.csv\n",
            "100%|██████████| 571M/571M [00:05<00:00, 97.0MB/s]\n"
          ]
        },
        {
          "output_type": "stream",
          "name": "stdout",
          "text": [
            "   codmes  id_persona  cod_banco               producto  clasif   mto_saldo  \\\n",
            "0  201811       10155         29  PRESTAMOS COMERCIALES     0.0  36698.4870   \n",
            "1  201804       75442         29      PRESTAMO PERSONAL     0.0   7971.1182   \n",
            "2  201902      172772         29  PRESTAMOS COMERCIALES     0.0    821.6077   \n",
            "3  201810      187572         29  PRESTAMOS COMERCIALES     0.0   9271.8030   \n",
            "4  201903      255598         29  PRESTAMOS COMERCIALES     0.0  10548.7263   \n",
            "\n",
            "   rango_mora  \n",
            "0         1.0  \n",
            "1         1.0  \n",
            "2         1.0  \n",
            "3         1.0  \n",
            "4         1.0  \n"
          ]
        }
      ],
      "source": [
        "# INSTALACION DE LIBRERIA PARA DESCARGAR DESDE DRIVE\n",
        "# !pip install gdown\n",
        "\n",
        "# Importa las bibliotecas\n",
        "import gdown\n",
        "import pandas as pd\n",
        "\n",
        "# Enlace compartido del archivo en Google Drive\n",
        "url = 'https://drive.google.com/uc?id=1A9IG5k3f3s97g-2QNPxPdtfrmbp4TM3R'\n",
        "\n",
        "# Descarga el archivo usando gdown\n",
        "output = 'archivo.csv'\n",
        "gdown.download(url, output, quiet=False)\n",
        "\n",
        "df = pd.read_csv(output)\n",
        "\n",
        "print(df.head())"
      ]
    },
    {
      "cell_type": "code",
      "source": [
        "import gdown\n",
        "import pandas as pd\n",
        "import os\n",
        "\n",
        "# Excepción personalizada para errores de URL\n",
        "class ErrorDeURLDeArchivo(Exception):\n",
        "    pass\n",
        "\n",
        "# Enlace compartido de Google Drive\n",
        "url = 'https://drive.google.com/uc?id=1A9IG5k3f3s97g-2QNPxPdtfrmbp4TM3R'\n",
        "output = 'archivo.csv'\n",
        "\n",
        "try:\n",
        "    # Descargar el archivo\n",
        "    gdown.download(url, output, quiet=False)\n",
        "\n",
        "    # Verificar si la descarga fue exitosa\n",
        "    if not os.path.exists(output):\n",
        "        raise ErrorDeURLDeArchivo(\"No se pudo descargar el archivo. Puede que no sea accesible.\")\n",
        "except Exception as e:\n",
        "    # Manejo de errores\n",
        "    print(f\"Error: {e}\")\n",
        "    print(\"Por favor, verifica los permisos del archivo o usa otro método de compartición.\")\n",
        "else:\n",
        "    # Leer y mostrar el CSV\n",
        "    df = pd.read_csv(output)\n",
        "    print(df.head())\n"
      ],
      "metadata": {
        "colab": {
          "base_uri": "https://localhost:8080/"
        },
        "id": "TCmviNHDvS7v",
        "outputId": "deced498-b687-4e1b-8b9a-eedc822bdbad"
      },
      "execution_count": 9,
      "outputs": [
        {
          "output_type": "stream",
          "name": "stderr",
          "text": [
            "Downloading...\n",
            "From (original): https://drive.google.com/uc?id=1A9IG5k3f3s97g-2QNPxPdtfrmbp4TM3R\n",
            "From (redirected): https://drive.google.com/uc?id=1A9IG5k3f3s97g-2QNPxPdtfrmbp4TM3R&confirm=t&uuid=b2656bd7-488f-4f17-8749-6ac8f091f6b4\n",
            "To: /content/archivo.csv\n",
            "100%|██████████| 571M/571M [00:06<00:00, 82.1MB/s]\n"
          ]
        },
        {
          "output_type": "stream",
          "name": "stdout",
          "text": [
            "   codmes  id_persona  cod_banco               producto  clasif   mto_saldo  \\\n",
            "0  201811       10155         29  PRESTAMOS COMERCIALES     0.0  36698.4870   \n",
            "1  201804       75442         29      PRESTAMO PERSONAL     0.0   7971.1182   \n",
            "2  201902      172772         29  PRESTAMOS COMERCIALES     0.0    821.6077   \n",
            "3  201810      187572         29  PRESTAMOS COMERCIALES     0.0   9271.8030   \n",
            "4  201903      255598         29  PRESTAMOS COMERCIALES     0.0  10548.7263   \n",
            "\n",
            "   rango_mora  \n",
            "0         1.0  \n",
            "1         1.0  \n",
            "2         1.0  \n",
            "3         1.0  \n",
            "4         1.0  \n"
          ]
        }
      ]
    }
  ]
}