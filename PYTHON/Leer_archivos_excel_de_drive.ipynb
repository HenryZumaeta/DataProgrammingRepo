{
  "nbformat": 4,
  "nbformat_minor": 0,
  "metadata": {
    "colab": {
      "provenance": [],
      "authorship_tag": "ABX9TyPIMKJbm/NPGArAfQZX8sNd",
      "include_colab_link": true
    },
    "kernelspec": {
      "name": "python3",
      "display_name": "Python 3"
    },
    "language_info": {
      "name": "python"
    }
  },
  "cells": [
    {
      "cell_type": "markdown",
      "metadata": {
        "id": "view-in-github",
        "colab_type": "text"
      },
      "source": [
        "<a href=\"https://colab.research.google.com/github/HenryZumaeta/MISCELANEAS/blob/Zeta/PYTHON/Leer_archivos_excel_de_drive.ipynb\" target=\"_parent\"><img src=\"https://colab.research.google.com/assets/colab-badge.svg\" alt=\"Open In Colab\"/></a>"
      ]
    },
    {
      "cell_type": "code",
      "source": [
        "# Instalación de la librería\n",
        "# !pip install gdown"
      ],
      "metadata": {
        "id": "R3TNM7gY225S"
      },
      "execution_count": null,
      "outputs": []
    },
    {
      "cell_type": "code",
      "source": [
        "import gdown\n",
        "import pandas as pd\n",
        "import os\n",
        "\n",
        "def descargar_y_leer_archivo_desde_drive(enlace_original, nombre_archivo='archivo.csv'):\n",
        "    \"\"\"\n",
        "    Convierte un enlace de Google Drive a un enlace de descarga directa,\n",
        "    descarga el archivo y lo lee como un DataFrame de pandas.\n",
        "\n",
        "    Parámetros:\n",
        "    enlace_original (str): Enlace de Google Drive en formato de vista previa.\n",
        "    nombre_archivo (str): Nombre del archivo de salida.\n",
        "\n",
        "    Retorna:\n",
        "    DataFrame: El contenido del archivo leído como un DataFrame de pandas.\n",
        "    \"\"\"\n",
        "    def convertir_enlace_gdown(enlace_original):\n",
        "        file_id = enlace_original.split('/')[5]\n",
        "        return f'https://drive.google.com/uc?id={file_id}'\n",
        "\n",
        "    url = convertir_enlace_gdown(enlace_original)\n",
        "\n",
        "    try:\n",
        "        gdown.download(url, nombre_archivo, quiet=False)\n",
        "        if not os.path.exists(nombre_archivo):\n",
        "            raise FileNotFoundError(\"No se pudo descargar el archivo. Puede que no sea accesible.\")\n",
        "    except Exception as e:\n",
        "        print(f\"Error: {e}\")\n",
        "        print(\"Por favor, verifica los permisos del archivo o usa otro método de compartición.\")\n",
        "        return None\n",
        "    else:\n",
        "        return pd.read_csv(nombre_archivo)\n",
        "\n",
        "# Uso de la función\n",
        "enlace_original = 'https://drive.google.com/file/d/1aW8FqixgMQ6QvSzkvFeudvFKbFZxhWaW/view?usp=sharing'\n",
        "df = descargar_y_leer_csv_desde_drive(enlace_original)\n",
        "if df is not None:\n",
        "    print(df.head())\n"
      ],
      "metadata": {
        "id": "GW_KmQgt2SwN",
        "outputId": "79146d56-89b1-4510-d062-5a3597e98d13",
        "colab": {
          "base_uri": "https://localhost:8080/"
        }
      },
      "execution_count": 2,
      "outputs": [
        {
          "output_type": "stream",
          "name": "stderr",
          "text": [
            "Downloading...\n",
            "From: https://drive.google.com/uc?id=1aW8FqixgMQ6QvSzkvFeudvFKbFZxhWaW\n",
            "To: /content/archivo.csv\n",
            "100%|██████████| 7.29M/7.29M [00:00<00:00, 30.4MB/s]"
          ]
        },
        {
          "output_type": "stream",
          "name": "stdout",
          "text": [
            "   codmes  id_persona  codtarget  margen  cem  ingreso_neto  linea_ofrecida\n",
            "0  201901      165747          0   -5.00    1          1781            1700\n",
            "1  201903      100117          0   -5.00  478          2106            2100\n",
            "2  201901       65751          1  342.99  687          3083            4600\n",
            "3  201901       58047          0   -5.00  182          1814            3600\n",
            "4  201901      113221          0   -5.00  582          2153            4300\n"
          ]
        },
        {
          "output_type": "stream",
          "name": "stderr",
          "text": [
            "\n"
          ]
        }
      ]
    }
  ]
}