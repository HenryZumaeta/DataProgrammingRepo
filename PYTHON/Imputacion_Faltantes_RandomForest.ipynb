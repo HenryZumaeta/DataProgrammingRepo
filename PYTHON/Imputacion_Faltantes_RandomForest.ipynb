{
  "nbformat": 4,
  "nbformat_minor": 0,
  "metadata": {
    "colab": {
      "provenance": [],
      "authorship_tag": "ABX9TyMUlFP0N7yMW5+I/3Ki3Hlh",
      "include_colab_link": true
    },
    "kernelspec": {
      "name": "python3",
      "display_name": "Python 3"
    },
    "language_info": {
      "name": "python"
    }
  },
  "cells": [
    {
      "cell_type": "markdown",
      "metadata": {
        "id": "view-in-github",
        "colab_type": "text"
      },
      "source": [
        "<a href=\"https://colab.research.google.com/github/HenryZumaeta/MISCELANEAS/blob/Zeta/PYTHON/Imputacion_Faltantes_RandomForest.ipynb\" target=\"_parent\"><img src=\"https://colab.research.google.com/assets/colab-badge.svg\" alt=\"Open In Colab\"/></a>"
      ]
    },
    {
      "cell_type": "code",
      "execution_count": null,
      "metadata": {
        "id": "KmgdmfsQmsUo"
      },
      "outputs": [],
      "source": [
        "# Imputación por Random Forest\n",
        "import pandas as pd\n",
        "import numpy as np\n",
        "from sklearn.experimental import enable_iterative_imputer\n",
        "from sklearn.impute import IterativeImputer\n",
        "from sklearn.ensemble import RandomForestRegressor, RandomForestClassifier\n",
        "\n",
        "\n",
        "# Separar las columnas numéricas y categóricas\n",
        "num_cols = df_combined.select_dtypes(include=[np.number]).columns\n",
        "cat_cols = df_combined.select_dtypes(include=[object]).columns\n",
        "\n",
        "# Imputación para variables numéricas usando RandomForestRegressor\n",
        "imputer_num = IterativeImputer(estimator=RandomForestRegressor(), max_iter=10, random_state=0)\n",
        "df_combined[num_cols] = imputer_num.fit_transform(df_combined[num_cols])\n",
        "\n",
        "# Imputación para variables categóricas usando RandomForestClassifier\n",
        "for col in cat_cols:\n",
        "    df_combined[col] = df_combined[col].astype('category').cat.codes  # Convertir a códigos numéricos temporales para imputar\n",
        "    imputer_cat = IterativeImputer(estimator=RandomForestClassifier(), max_iter=10, random_state=0)\n",
        "    df_combined[col] = imputer_cat.fit_transform(df_combined[[col]])\n",
        "    df_combined[col] = pd.Categorical.from_codes(df_combined[col].astype(int), categories=df_combined[col].astype('category').cat.categories)  # Reconstruir categorías originales\n",
        "\n",
        "# Guardar el DataFrame imputado en un archivo CSV\n",
        "#df_combined.to_csv('raleo_base_clus_clusteres_imputed.csv', index=False)\n",
        "\n",
        "print(\"DataFrame imputado:\\n\", df_combined.head())\n"
      ]
    }
  ]
}