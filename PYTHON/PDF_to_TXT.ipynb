{
  "nbformat": 4,
  "nbformat_minor": 0,
  "metadata": {
    "colab": {
      "provenance": [],
      "mount_file_id": "1DQ0JBP0VeN-IdprIb4mK565Vmlwol4p8",
      "authorship_tag": "ABX9TyOw6+cK4jnPWeL1x0nmrRR4",
      "include_colab_link": true
    },
    "kernelspec": {
      "name": "python3",
      "display_name": "Python 3"
    },
    "language_info": {
      "name": "python"
    }
  },
  "cells": [
    {
      "cell_type": "markdown",
      "metadata": {
        "id": "view-in-github",
        "colab_type": "text"
      },
      "source": [
        "<a href=\"https://colab.research.google.com/github/HenryZumaeta/MISCELANEAS/blob/Zeta/PYTHON/PDF_to_TXT.ipynb\" target=\"_parent\"><img src=\"https://colab.research.google.com/assets/colab-badge.svg\" alt=\"Open In Colab\"/></a>"
      ]
    },
    {
      "cell_type": "code",
      "execution_count": null,
      "metadata": {
        "id": "Z0CVK0WA-Ejm"
      },
      "outputs": [],
      "source": [
        "!pip install PyPDF2"
      ]
    },
    {
      "cell_type": "code",
      "source": [
        "!pip install pymupdf"
      ],
      "metadata": {
        "id": "sDB-C9f4VSAf"
      },
      "execution_count": null,
      "outputs": []
    },
    {
      "cell_type": "code",
      "source": [
        "from google.colab import drive\n",
        "drive.mount('/content/drive')"
      ],
      "metadata": {
        "id": "dVazywklGNYc"
      },
      "execution_count": null,
      "outputs": []
    },
    {
      "cell_type": "code",
      "source": [
        "import PyPDF2\n",
        "\n",
        "# Ruta al archivo PDF\n",
        "pdf_file_path = '/content/drive/MyDrive/Colab Notebooks/ZEngenieers/PDF TO TXT/pdf del artículo.pdf'\n",
        "\n",
        "# Ruta y nombre del archivo de texto donde se guardará el contenido\n",
        "output_txt_file_path = '/content/drive/MyDrive/Colab Notebooks/ZEngenieers/PDF TO TXT/articulo_PyPDF2_01.txt'\n",
        "\n",
        "# Abrir el archivo PDF en modo lectura ('rb' es 'read binary')\n",
        "with open(pdf_file_path, 'rb') as file:\n",
        "    reader = PyPDF2.PdfReader(file)\n",
        "\n",
        "    # Abrir el archivo de texto para escribir\n",
        "    with open(output_txt_file_path, 'w') as text_file:\n",
        "        # Iterar a través de las páginas del PDF y extraer el texto\n",
        "        for page_num in range(len(reader.pages) ):\n",
        "            page = reader.pages[page_num]\n",
        "            text = page.extract_text()\n",
        "            text_file.write(text)\n",
        "\n",
        "print(f\"El contenido del PDF ha sido escrito en {output_txt_file_path}\")"
      ],
      "metadata": {
        "colab": {
          "base_uri": "https://localhost:8080/"
        },
        "id": "hG9sy8R8GZeD",
        "outputId": "5d054693-b7a3-4b58-b59c-68b5606e15e3"
      },
      "execution_count": null,
      "outputs": [
        {
          "output_type": "stream",
          "name": "stdout",
          "text": [
            "El contenido del PDF ha sido escrito en /content/drive/MyDrive/Colab Notebooks/ZEngenieers/PDF TO TXT/articulo_PyPDF2_01.txt\n"
          ]
        }
      ]
    },
    {
      "cell_type": "code",
      "source": [
        "# ES EL QUE MEJOR RESULTADO DA\n",
        "import fitz  # PyMuPDF\n",
        "\n",
        "def pdf_to_text(pdf_path, txt_path):\n",
        "    # Abrir el documento PDF\n",
        "    with fitz.open(pdf_path) as doc:\n",
        "        # Extraer texto de cada página\n",
        "        text = \"\"\n",
        "        for page in doc:\n",
        "            text += page.get_text()\n",
        "\n",
        "    # Guardar el texto en un archivo txt\n",
        "    with open(txt_path, \"w\") as txt_file:\n",
        "        txt_file.write(text)\n",
        "\n",
        "# Rutas del archivo PDF y del archivo de texto resultante\n",
        "pdf_path = '/content/drive/MyDrive/Colab Notebooks/ZEngenieers/PDF TO TXT/pdf del artículo.pdf'\n",
        "txt_path = '/content/drive/MyDrive/Colab Notebooks/ZEngenieers/PDF TO TXT/articulo_PyMuPDF_01.txt'\n",
        "\n",
        "# Convertir el PDF a texto\n",
        "pdf_to_text(pdf_path, txt_path)"
      ],
      "metadata": {
        "id": "urKdRAJBHAkc"
      },
      "execution_count": null,
      "outputs": []
    },
    {
      "cell_type": "code",
      "source": [
        "import PyPDF2\n",
        "\n",
        "# Ruta al archivo PDF\n",
        "pdf_file_path = '/content/drive/MyDrive/Colab Notebooks/ZEngenieers/PDF TO TXT/pdf del artículo.pdf'\n",
        "\n",
        "# Ruta y nombre del archivo de texto donde se guardará el contenido\n",
        "output_txt_file_path = '/content/drive/MyDrive/Colab Notebooks/ZEngenieers/PDF TO TXT/articulo_PyPDF2_02.txt'\n",
        "\n",
        "try:\n",
        "    # Abrir el archivo PDF en modo lectura ('rb' es 'read binary')\n",
        "    with open(pdf_file_path, 'rb') as file:\n",
        "        reader = PyPDF2.PdfReader(file)\n",
        "\n",
        "        # Abrir el archivo de texto para escribir\n",
        "        with open(output_txt_file_path, 'w') as text_file:\n",
        "            # Iterar a través de las páginas del PDF y extraer el texto\n",
        "            for page_num in range(len(reader.pages)):\n",
        "                page = reader.pages[page_num]\n",
        "                text = page.extract_text()\n",
        "                if text:  # Verificar si la página contiene texto\n",
        "                    text_file.write(text)\n",
        "                else:\n",
        "                    print(f\"No se pudo extraer texto de la página {page_num}\")\n",
        "\n",
        "    print(f\"El contenido del PDF ha sido escrito en {output_txt_file_path}\")\n",
        "\n",
        "except Exception as e:\n",
        "    print(f\"Se produjo un error al procesar el archivo PDF: {e}\")"
      ],
      "metadata": {
        "colab": {
          "base_uri": "https://localhost:8080/"
        },
        "id": "Dh3zFPh3Ldfh",
        "outputId": "5c917aca-133c-4b87-fc8a-2396c52314c5"
      },
      "execution_count": null,
      "outputs": [
        {
          "output_type": "stream",
          "name": "stdout",
          "text": [
            "El contenido del PDF ha sido escrito en /content/drive/MyDrive/Colab Notebooks/ZEngenieers/PDF TO TXT/articulo_PyPDF2_02.txt\n"
          ]
        }
      ]
    },
    {
      "cell_type": "code",
      "source": [
        "import PyPDF2\n",
        "\n",
        "pdf_file_path = '/content/drive/MyDrive/Colab Notebooks/ZEngenieers/PDF TO TXT/pdf del artículo.pdf'\n",
        "output_txt_file_path = '/content/drive/MyDrive/Colab Notebooks/ZEngenieers/PDF TO TXT/articulo_PyPDF2_03.txt'\n",
        "\n",
        "try:\n",
        "    with open(pdf_file_path, 'rb') as file:\n",
        "        reader = PyPDF2.PdfReader(file)\n",
        "        with open(output_txt_file_path, 'w') as text_file:\n",
        "            for page_num in range(len(reader.pages)):\n",
        "                page = reader.pages[page_num]\n",
        "                text = page.extract_text()\n",
        "                if text:\n",
        "                    # Aquí se maneja la longitud de las líneas\n",
        "                    for line in text.split('\\n'):\n",
        "                        text_file.write(line.strip() + '\\n')\n",
        "                else:\n",
        "                    print(f\"No se pudo extraer texto de la página {page_num}\")\n",
        "\n",
        "    print(f\"El contenido del PDF ha sido escrito en {output_txt_file_path}\")\n",
        "\n",
        "except Exception as e:\n",
        "    print(f\"Se produjo un error al procesar el archivo PDF: {e}\")"
      ],
      "metadata": {
        "colab": {
          "base_uri": "https://localhost:8080/"
        },
        "id": "bdRdMlNxNNzW",
        "outputId": "7fc655b0-fd75-44d0-ecb4-62062528a740"
      },
      "execution_count": null,
      "outputs": [
        {
          "output_type": "stream",
          "name": "stdout",
          "text": [
            "El contenido del PDF ha sido escrito en /content/drive/MyDrive/Colab Notebooks/ZEngenieers/PDF TO TXT/articulo_PyPDF2_03.txt\n"
          ]
        }
      ]
    },
    {
      "cell_type": "code",
      "source": [
        "import PyPDF2\n",
        "\n",
        "def ajustar_longitud_linea(texto, max_caracteres):\n",
        "    lineas_ajustadas = []\n",
        "    palabras = texto.split()\n",
        "    linea_actual = \"\"\n",
        "\n",
        "    for palabra in palabras:\n",
        "        if len(linea_actual) + len(palabra) <= max_caracteres:\n",
        "            linea_actual += palabra + \" \"\n",
        "        else:\n",
        "            lineas_ajustadas.append(linea_actual)\n",
        "            linea_actual = palabra + \" \"\n",
        "    lineas_ajustadas.append(linea_actual)  # Añadir la última línea\n",
        "    return \"\\n\".join(lineas_ajustadas)\n",
        "\n",
        "pdf_file_path = '/content/drive/MyDrive/Colab Notebooks/ZEngenieers/PDF TO TXT/pdf del artículo.pdf'\n",
        "output_txt_file_path = '/content/drive/MyDrive/Colab Notebooks/ZEngenieers/PDF TO TXT/articulo_PyPDF2_04.txt'\n",
        "\n",
        "max_caracteres = 80  # Ajusta este valor según tus observaciones del PDF\n",
        "\n",
        "try:\n",
        "    with open(pdf_file_path, 'rb') as file:\n",
        "        reader = PyPDF2.PdfReader(file)\n",
        "        with open(output_txt_file_path, 'w') as text_file:\n",
        "            for page_num in range(len(reader.pages)):\n",
        "                page = reader.pages[page_num]\n",
        "                text = page.extract_text()\n",
        "                if text:\n",
        "                    text_ajustado = ajustar_longitud_linea(text, max_caracteres)\n",
        "                    text_file.write(text_ajustado)\n",
        "                else:\n",
        "                    print(f\"No se pudo extraer texto de la página {page_num}\")\n",
        "\n",
        "    print(f\"El contenido del PDF ha sido escrito en {output_txt_file_path}\")\n",
        "\n",
        "except Exception as e:\n",
        "    print(f\"Se produjo un error al procesar el archivo PDF: {e}\")"
      ],
      "metadata": {
        "colab": {
          "base_uri": "https://localhost:8080/"
        },
        "id": "K4LQ4fibOQc7",
        "outputId": "f783a50e-b026-4325-bffa-55b7b8417939"
      },
      "execution_count": null,
      "outputs": [
        {
          "output_type": "stream",
          "name": "stdout",
          "text": [
            "El contenido del PDF ha sido escrito en /content/drive/MyDrive/Colab Notebooks/ZEngenieers/PDF TO TXT/articulo_PyPDF2_04.txt\n"
          ]
        }
      ]
    },
    {
      "cell_type": "code",
      "source": [
        "import PyPDF2\n",
        "\n",
        "pdf_file_path = '/content/drive/MyDrive/Colab Notebooks/ZEngenieers/PDF TO TXT/pdf del artículo.pdf'\n",
        "output_txt_file_path = '/content/drive/MyDrive/Colab Notebooks/ZEngenieers/PDF TO TXT/articulo_PyPDF2_05.txt'\n",
        "\n",
        "try:\n",
        "    with open(pdf_file_path, 'rb') as file:\n",
        "        reader = PyPDF2.PdfReader(file)\n",
        "        with open(output_txt_file_path, 'w') as text_file:\n",
        "            for page_num in range(len(reader.pages)):\n",
        "                page = reader.pages[page_num]\n",
        "                text = page.extract_text()\n",
        "                if text:\n",
        "                    # Dividir el texto en líneas y buscar separaciones de párrafos\n",
        "                    lineas = text.split('\\n')\n",
        "                    for i, linea in enumerate(lineas):\n",
        "                        text_file.write(linea.strip() + '\\n')\n",
        "                        # Si la línea actual está vacía y la siguiente no, es posible que sea un salto de párrafo\n",
        "                        if i < len(lineas) - 1 and linea.strip() == '' and lineas[i + 1].strip() != '':\n",
        "                            text_file.write('\\n')\n",
        "                else:\n",
        "                    print(f\"No se pudo extraer texto de la página {page_num}\")\n",
        "\n",
        "    print(f\"El contenido del PDF ha sido escrito en {output_txt_file_path}\")\n",
        "\n",
        "except Exception as e:\n",
        "    print(f\"Se produjo un error al procesar el archivo PDF: {e}\")"
      ],
      "metadata": {
        "colab": {
          "base_uri": "https://localhost:8080/"
        },
        "id": "7ogZ3g84PmQD",
        "outputId": "365aae56-3be7-4d5e-b3c4-97e3bf9e6dd2"
      },
      "execution_count": null,
      "outputs": [
        {
          "output_type": "stream",
          "name": "stdout",
          "text": [
            "El contenido del PDF ha sido escrito en /content/drive/MyDrive/Colab Notebooks/ZEngenieers/PDF TO TXT/articulo_PyPDF2_05.txt\n"
          ]
        }
      ]
    },
    {
      "cell_type": "code",
      "source": [
        "import fitz  # Importa PyMuPDF\n",
        "\n",
        "def pdf_to_text_with_paragraphs(pdf_path, txt_path):\n",
        "    doc = fitz.open(pdf_path)\n",
        "    with open(txt_path, \"w\") as text_file:\n",
        "        for page in doc:\n",
        "            text = page.get_text(\"text\")\n",
        "            paragraphs = text.split('\\n\\n')  # Supone que los párrafos están separados por doble salto de línea\n",
        "            for para in paragraphs:\n",
        "                if para.strip():  # Evita escribir párrafos vacíos\n",
        "                    text_file.write(para.strip() + '\\n\\n')\n",
        "    doc.close()\n",
        "\n",
        "pdf_file_path = '/content/drive/MyDrive/Colab Notebooks/ZEngenieers/PDF TO TXT/pdf del artículo.pdf'\n",
        "output_txt_file_path = '/content/drive/MyDrive/Colab Notebooks/ZEngenieers/PDF TO TXT/articulo_PyMuPDF_02.txt'\n",
        "\n",
        "pdf_to_text_with_paragraphs(pdf_file_path, output_txt_file_path)\n"
      ],
      "metadata": {
        "id": "lW7hhZmFQP7S"
      },
      "execution_count": null,
      "outputs": []
    },
    {
      "cell_type": "code",
      "source": [
        "import fitz # Importa PyMuPDF\n",
        "\n",
        "def pdf_to_text_without_headers_footers(pdf_path, txt_path):\n",
        "    doc = fitz.open(pdf_path)\n",
        "    with open(txt_path, \"w\") as text_file:\n",
        "        for page in doc:\n",
        "            text = page.get_text(\"text\")\n",
        "            lines = text.split('\\n')\n",
        "            # Asumir que el encabezado y pie de página están en las primeras y últimas 2 líneas\n",
        "            lines = lines[2:-2]\n",
        "            for line in lines:\n",
        "                if not line.isdigit():  # Ignora líneas que son solo números (posibles números de página)\n",
        "                    text_file.write(line + '\\n')\n",
        "    doc.close()\n",
        "\n",
        "pdf_file_path = '/content/drive/MyDrive/Colab Notebooks/ZEngenieers/PDF TO TXT/pdf del artículo.pdf'\n",
        "output_txt_file_path = '/content/drive/MyDrive/Colab Notebooks/ZEngenieers/PDF TO TXT/articulo_PyMuPDF_03.txt'\n",
        "\n",
        "pdf_to_text_without_headers_footers(pdf_file_path, output_txt_file_path)"
      ],
      "metadata": {
        "id": "c2Fl7pfWSRB8"
      },
      "execution_count": null,
      "outputs": []
    }
  ]
}