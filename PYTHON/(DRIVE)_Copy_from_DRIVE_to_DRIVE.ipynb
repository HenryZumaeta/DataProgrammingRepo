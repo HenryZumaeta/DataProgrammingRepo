{
  "nbformat": 4,
  "nbformat_minor": 0,
  "metadata": {
    "colab": {
      "provenance": [],
      "include_colab_link": true
    },
    "kernelspec": {
      "name": "python3",
      "display_name": "Python 3"
    },
    "language_info": {
      "name": "python"
    }
  },
  "cells": [
    {
      "cell_type": "markdown",
      "metadata": {
        "id": "view-in-github",
        "colab_type": "text"
      },
      "source": [
        "<a href=\"https://colab.research.google.com/github/HenryZumaeta/MISCELANEAS/blob/Zeta/PYTHON/(DRIVE)_Copy_from_DRIVE_to_DRIVE.ipynb\" target=\"_parent\"><img src=\"https://colab.research.google.com/assets/colab-badge.svg\" alt=\"Open In Colab\"/></a>"
      ]
    },
    {
      "cell_type": "markdown",
      "source": [
        "## **<font color='white'> Drive to Google Drive - Shared by [Henry Zumaeta](https://github.com/HenryZumaeta) </font>**"
      ],
      "metadata": {
        "id": "4SeBBG17jKr3"
      }
    },
    {
      "cell_type": "markdown",
      "source": [
        "#`Mount/Unmount Google drive(`<font size=\"6px\" color=\"#01c968\">`Gdrive`</font>`)`"
      ],
      "metadata": {
        "id": "_dYE_vfminTC"
      }
    },
    {
      "cell_type": "code",
      "source": [
        "#@markdown <br><center><img src='https://upload.wikimedia.org/wikipedia/commons/f/fb/Google_Drive_-_New_Logo.png' height=\"80\" alt=\"Gdrive-logo\"/></center>\n",
        "#@markdown <center><h3>Mount Gdrive to /content/drive</h3></center><br>\n",
        "#@markdown <h3>Step 1 : Mount GDrive</h3></center><br>\n",
        "MODE = \"MOUNT\" #@param [\"MOUNT\", \"UNMOUNT\"]\n",
        "#Mount your Gdrive!\n",
        "from google.colab import drive\n",
        "drive.mount._DEBUG = False\n",
        "if MODE == \"MOUNT\":\n",
        "  drive.mount('/content/drive', force_remount=True)\n",
        "elif MODE == \"UNMOUNT\":\n",
        "  try:\n",
        "    drive.flush_and_unmount()\n",
        "  except ValueError:\n",
        "    pass\n",
        "  get_ipython().system_raw(\"rm -rf /root/.config/Google/DriveFS\")\n",
        "\n",
        "#@markdown To Unmount(<font size=\"2px\" color=\"#01c968\">MODE: UNMOUNT</font>)"
      ],
      "metadata": {
        "cellView": "form",
        "id": "kMqLUb8EXEE9",
        "colab": {
          "base_uri": "https://localhost:8080/"
        },
        "outputId": "258e268f-5690-4c67-8815-aac1f723ab25"
      },
      "execution_count": null,
      "outputs": [
        {
          "output_type": "stream",
          "name": "stdout",
          "text": [
            "Mounted at /content/drive\n"
          ]
        }
      ]
    },
    {
      "cell_type": "code",
      "source": [
        "# @markdown <br><center><img src='https://raw.githubusercontent.com/HenryZumaeta/MASTER/Zeta/DATA/GDrive_to_GDrive_2023.png' height=\"86\" alt=\"MEGA-logo\"/></center>\n",
        "# @markdown  <center><h2>Transfer from GDrive to GDrive</h2></center><br>\n",
        "\n",
        "#@title DRIVE public link download\n",
        "#@markdown <h3>Step 2 : Input Source and Destination path</h3></center><br>\n",
        "\n",
        "import subprocess\n",
        "\n",
        "# Definir funciones\n",
        "def run_shell_command(command):\n",
        "    try:\n",
        "        return subprocess.check_output(command, shell=True).decode().strip()\n",
        "    except subprocess.CalledProcessError as e:\n",
        "        print(f\"Error al ejecutar el comando: {e}\")\n",
        "        return None\n",
        "\n",
        "def count_files(path):\n",
        "    return int(run_shell_command(f\"find '{path}/' -type f | wc -l\"))\n",
        "\n",
        "def get_folder_size(path):\n",
        "    return run_shell_command(f\"du -sh '{path}'\").split()[0]\n",
        "\n",
        "# Definir rutas de origen y destino\n",
        "INPUT_PATH_OF_GDRIVE = \"\" #@param {type:\"string\"}\n",
        "OUTPUT_PATH_OF_GDRIVE = \"\" #@param {type:\"string\"}\n",
        "\n",
        "# Contar archivos antes de copiar\n",
        "num_files_ori = count_files(INPUT_PATH_OF_GDRIVE)\n",
        "\n",
        "# Extraer el nombre de la última carpeta en la ruta de origen\n",
        "folder_name = INPUT_PATH_OF_GDRIVE.rstrip('/').split('/')[-1]\n",
        "output_path_with_folder = f\"{OUTPUT_PATH_OF_GDRIVE}/{folder_name}\"\n",
        "\n",
        "# Mensaje de inicio de copia\n",
        "print(f\"Copiando {num_files_ori} archivos...\", end='', flush=True)\n",
        "\n",
        "# Realizar la copia\n",
        "subprocess.run([\"cp\", \"-a\", INPUT_PATH_OF_GDRIVE + \"/\", output_path_with_folder])\n",
        "\n",
        "# Borrar mensaje anterior\n",
        "print(\"\\r\", end='')\n",
        "\n",
        "# Contar archivos después de copiar y obtener tamaño de la carpeta\n",
        "num_files_copied = count_files(output_path_with_folder)\n",
        "folder_size = get_folder_size(output_path_with_folder)\n",
        "\n",
        "# Imprimir resultados\n",
        "print(f\"Número de archivos originales: {num_files_ori}\")\n",
        "print(f\"Número de archivos copiados: {num_files_copied}\")\n",
        "print(f\"Peso total de la carpeta copiada: {folder_size}\")\n"
      ],
      "metadata": {
        "cellView": "form",
        "id": "SKj7Wsw8GoEq"
      },
      "execution_count": null,
      "outputs": []
    }
  ]
}