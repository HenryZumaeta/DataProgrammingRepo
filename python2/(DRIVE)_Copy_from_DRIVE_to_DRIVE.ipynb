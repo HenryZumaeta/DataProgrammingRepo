{
  "nbformat": 4,
  "nbformat_minor": 0,
  "metadata": {
    "colab": {
      "provenance": [],
      "include_colab_link": true
    },
    "kernelspec": {
      "name": "python3",
      "display_name": "Python 3"
    },
    "language_info": {
      "name": "python"
    }
  },
  "cells": [
    {
      "cell_type": "markdown",
      "metadata": {
        "id": "view-in-github",
        "colab_type": "text"
      },
      "source": [
        "<a href=\"https://colab.research.google.com/github/HenryZumaeta/MISCELANEAS/blob/Zeta/PYTHON/(DRIVE)_Copy_from_DRIVE_to_DRIVE.ipynb\" target=\"_parent\"><img src=\"https://colab.research.google.com/assets/colab-badge.svg\" alt=\"Open In Colab\"/></a>"
      ]
    },
    {
      "cell_type": "markdown",
      "source": [
        "## **<font color='white'> Drive to Google Drive - Shared by [Henry Zumaeta](https://github.com/HenryZumaeta) </font>**"
      ],
      "metadata": {
        "id": "4SeBBG17jKr3"
      }
    },
    {
      "cell_type": "markdown",
      "source": [
        "#`Mount/Unmount Google drive(`<font size=\"6px\" color=\"#01c968\">`Gdrive`</font>`)`"
      ],
      "metadata": {
        "id": "_dYE_vfminTC"
      }
    },
    {
      "cell_type": "code",
      "source": [
        "#@markdown <br><center><img src='https://upload.wikimedia.org/wikipedia/commons/f/fb/Google_Drive_-_New_Logo.png' height=\"80\" alt=\"Gdrive-logo\"/></center>\n",
        "#@markdown <center><h3>Mount Gdrive to /content/drive</h3></center><br>\n",
        "#@markdown <h3>Step 1 : Mount GDrive</h3></center><br>\n",
        "MODE = \"MOUNT\" #@param [\"MOUNT\", \"UNMOUNT\"]\n",
        "#Mount your Gdrive!\n",
        "from google.colab import drive\n",
        "drive.mount._DEBUG = False\n",
        "if MODE == \"MOUNT\":\n",
        "  drive.mount('/content/drive', force_remount=True)\n",
        "elif MODE == \"UNMOUNT\":\n",
        "  try:\n",
        "    drive.flush_and_unmount()\n",
        "  except ValueError:\n",
        "    pass\n",
        "  get_ipython().system_raw(\"rm -rf /root/.config/Google/DriveFS\")\n",
        "\n",
        "#@markdown To Unmount(<font size=\"2px\" color=\"#01c968\">MODE: UNMOUNT</font>)"
      ],
      "metadata": {
        "cellView": "form",
        "id": "kMqLUb8EXEE9",
        "colab": {
          "base_uri": "https://localhost:8080/"
        },
        "outputId": "3bcd695a-7c92-481c-f2f6-2f0342d2ea48"
      },
      "execution_count": 70,
      "outputs": [
        {
          "output_type": "stream",
          "name": "stdout",
          "text": [
            "Mounted at /content/drive\n"
          ]
        }
      ]
    },
    {
      "cell_type": "code",
      "source": [
        "# @markdown <br><center><img src='https://raw.githubusercontent.com/HenryZumaeta/MASTER/Zeta/DATA/GDrive_to_GDrive_2023.png' height=\"86\" alt=\"MEGA-logo\"/></center>\n",
        "# @markdown  <center><h2>Transfer from GDrive to GDrive</h2></center><br>\n",
        "\n",
        "#@title DRIVE public link download\n",
        "#@markdown <h3>Step 2 : Input Source and Destination path</h3></center><br>\n",
        "\n",
        "import subprocess\n",
        "\n",
        "# Definir funciones\n",
        "def run_shell_command(command):\n",
        "    try:\n",
        "        return subprocess.check_output(command, shell=True).decode().strip()\n",
        "    except subprocess.CalledProcessError as e:\n",
        "        print(f\"Error al ejecutar el comando: {e}\")\n",
        "        return None\n",
        "\n",
        "def count_files(path):\n",
        "    return int(run_shell_command(f\"find '{path}/' -type f | wc -l\"))\n",
        "\n",
        "def get_folder_size(path):\n",
        "    return run_shell_command(f\"du -sh '{path}'\").split()[0]\n",
        "\n",
        "# Definir rutas de origen y destino\n",
        "INPUT_PATH_OF_GDRIVE = \"\" #@param {type:\"string\"}\n",
        "OUTPUT_PATH_OF_GDRIVE = \"\" #@param {type:\"string\"}\n",
        "\n",
        "# Contar archivos antes de copiar\n",
        "num_files_ori = count_files(INPUT_PATH_OF_GDRIVE)\n",
        "\n",
        "# Extraer el nombre de la última carpeta en la ruta de origen\n",
        "folder_name = INPUT_PATH_OF_GDRIVE.rstrip('/').split('/')[-1]\n",
        "output_path_with_folder = f\"{OUTPUT_PATH_OF_GDRIVE}/{folder_name}\"\n",
        "\n",
        "# Mensaje de inicio de copia\n",
        "print(f\"Copiando {num_files_ori} archivos...\", end='', flush=True)\n",
        "\n",
        "# Realizar la copia\n",
        "subprocess.run([\"cp\", \"-a\", INPUT_PATH_OF_GDRIVE + \"/\", output_path_with_folder])\n",
        "\n",
        "# Borrar mensaje anterior\n",
        "print(\"\\r\", end='')\n",
        "\n",
        "# Contar archivos después de copiar y obtener tamaño de la carpeta\n",
        "num_files_copied = count_files(output_path_with_folder)\n",
        "folder_size = get_folder_size(output_path_with_folder)\n",
        "\n",
        "# Imprimir resultados\n",
        "print(f\"Número de archivos originales: {num_files_ori}\")\n",
        "print(f\"Número de archivos copiados: {num_files_copied}\")\n",
        "print(f\"Peso total de la carpeta copiada: {folder_size}\")\n"
      ],
      "metadata": {
        "cellView": "form",
        "id": "SKj7Wsw8GoEq",
        "colab": {
          "base_uri": "https://localhost:8080/"
        },
        "outputId": "0d18d2d0-ad65-4496-fea7-f70c7475b482"
      },
      "execution_count": 83,
      "outputs": [
        {
          "output_type": "stream",
          "name": "stdout",
          "text": [
            "Número de archivos originales: 79\n",
            "Número de archivos copiados: 79\n",
            "Peso total de la carpeta copiada: 278M\n"
          ]
        }
      ]
    },
    {
      "cell_type": "code",
      "source": [
        "import time\n",
        "import sys\n",
        "\n",
        "def barra_progreso(iteracion, total, longitud=50):\n",
        "    porcentaje = iteracion / total\n",
        "    completado = int(porcentaje * longitud)\n",
        "    restante = longitud - completado\n",
        "    barra = f\"[{'#' * completado}{'.' * restante} {porcentaje:.1%}] \"\n",
        "    sys.stdout.write('\\r' + barra)\n",
        "    sys.stdout.flush()\n",
        "\n",
        "limite = 100\n",
        "\n",
        "for i in range(limite + 1):\n",
        "    time.sleep(0.1)\n",
        "    barra_progreso(i, limite)\n",
        "\n",
        "print(\"\\nProceso completado.\")\n"
      ],
      "metadata": {
        "colab": {
          "base_uri": "https://localhost:8080/"
        },
        "id": "UDfco3ojSDdt",
        "outputId": "6d6ebbd7-57d7-4d4f-dc2b-06bbea9b6fbf"
      },
      "execution_count": 122,
      "outputs": [
        {
          "output_type": "stream",
          "name": "stdout",
          "text": [
            "[################################################## 100.0%] \n",
            "Proceso completado.\n"
          ]
        }
      ]
    },
    {
      "cell_type": "code",
      "source": [
        "# @markdown <br><center><img src='https://raw.githubusercontent.com/HenryZumaeta/MASTER/Zeta/DATA/GDrive_to_GDrive_2023.png' height=\"86\" alt=\"MEGA-logo\"/></center>\n",
        "# @markdown  <center><h2>Transfer from GDrive to GDrive</h2></center><br>\n",
        "\n",
        "import subprocess\n",
        "import os\n",
        "import sys\n",
        "\n",
        "def barra_progreso(iteracion, total, longitud=50):\n",
        "    porcentaje = iteracion / total\n",
        "    completado = int(porcentaje * longitud)\n",
        "    restante = longitud - completado\n",
        "    barra = f\"[{'#' * completado}{'.' * restante} {porcentaje:.1%}] \"\n",
        "    sys.stdout.write('\\r' + barra)\n",
        "    sys.stdout.flush()\n",
        "\n",
        "def run_shell_command(command):\n",
        "    try:\n",
        "        return subprocess.check_output(command, shell=True).decode().strip()\n",
        "    except subprocess.CalledProcessError as e:\n",
        "        print(f\"Error al ejecutar el comando: {e}\")\n",
        "        return None\n",
        "\n",
        "def count_files(path):\n",
        "    return int(run_shell_command(f\"find '{path}/' -type f | wc -l\"))\n",
        "\n",
        "def get_folder_size(path):\n",
        "    return run_shell_command(f\"du -sh '{path}'\").split()[0]\n",
        "\n",
        "# Definir rutas de origen y destino\n",
        "INPUT_PATH_OF_GDRIVE = \"/content/drive/Shareddrives/Shared/StarUML.v5.0.1.x86-x64\" #@param {type:\"string\"}\n",
        "OUTPUT_PATH_OF_GDRIVE = \"/content/drive/Shareddrives/Unidad01\" #@param {type:\"string\"}\n",
        "\n",
        "# Contar archivos antes de copiar\n",
        "num_files_ori = count_files(INPUT_PATH_OF_GDRIVE)\n",
        "\n",
        "# Extraer el nombre de la última carpeta en la ruta de origen\n",
        "folder_name = INPUT_PATH_OF_GDRIVE.rstrip('/').split('/')[-1]\n",
        "output_path_with_folder = f\"{OUTPUT_PATH_OF_GDRIVE}/{folder_name}\"\n",
        "\n",
        "# Mensaje de inicio de copia\n",
        "print(f\"Copiando {num_files_ori} archivos...\", end='', flush=True)\n",
        "\n",
        "# Obtener lista de archivos a copiar\n",
        "files_to_copy = os.listdir(INPUT_PATH_OF_GDRIVE)\n",
        "\n",
        "# Inicializar variables para la barra de progreso\n",
        "num_files_copied = 0\n",
        "\n",
        "# Realizar la copia de archivos uno por uno\n",
        "for file in files_to_copy:\n",
        "    file_path = os.path.join(INPUT_PATH_OF_GDRIVE, file)\n",
        "    subprocess.run([\"cp\", \"-a\", file_path, output_path_with_folder])\n",
        "\n",
        "    # Actualizar barra de progreso\n",
        "    num_files_copied += 1\n",
        "    barra_progreso(num_files_copied, num_files_ori)\n",
        "\n",
        "# Contar archivos después de copiar y obtener tamaño de la carpeta\n",
        "num_files_copied = count_files(output_path_with_folder)\n",
        "folder_size = get_folder_size(output_path_with_folder)\n",
        "\n",
        "# Imprimir resultados\n",
        "print(f\"\\nNúmero de archivos originales: {num_files_ori}\")\n",
        "print(f\"Número de archivos copiados: {num_files_copied}\")\n",
        "print(f\"Peso total de la carpeta copiada: {folder_size}\")\n",
        "print(\"Proceso completado.\")"
      ],
      "metadata": {
        "id": "0oXWf79lvcPA"
      },
      "execution_count": null,
      "outputs": []
    }
  ]
}