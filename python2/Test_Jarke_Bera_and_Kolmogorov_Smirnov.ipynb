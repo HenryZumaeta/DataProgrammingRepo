{
  "nbformat": 4,
  "nbformat_minor": 0,
  "metadata": {
    "colab": {
      "provenance": [],
      "authorship_tag": "ABX9TyNuZ9T3SP4quJICeWzpsQ6o",
      "include_colab_link": true
    },
    "kernelspec": {
      "name": "python3",
      "display_name": "Python 3"
    },
    "language_info": {
      "name": "python"
    }
  },
  "cells": [
    {
      "cell_type": "markdown",
      "metadata": {
        "id": "view-in-github",
        "colab_type": "text"
      },
      "source": [
        "<a href=\"https://colab.research.google.com/github/HenryZumaeta/MISCELANEAS/blob/Zeta/PYTHON/Test_Jarke_Bera_and_Kolmogorov_Smirnov.ipynb\" target=\"_parent\"><img src=\"https://colab.research.google.com/assets/colab-badge.svg\" alt=\"Open In Colab\"/></a>"
      ]
    },
    {
      "cell_type": "code",
      "execution_count": 6,
      "metadata": {
        "colab": {
          "base_uri": "https://localhost:8080/"
        },
        "id": "e_tReuXB-vD8",
        "outputId": "c773ba91-ec9b-4b3d-b5a8-9e4a7b992ed7"
      },
      "outputs": [
        {
          "output_type": "stream",
          "name": "stdout",
          "text": [
            "        Índice  Estadístico        p-valor  Resultado              Prueba\n",
            "0     uniforme    34.722270   2.885061e-08  No Normal         Jarque-Bera\n",
            "1     uniforme     0.130487   6.050815e-02     Normal  Kolmogorov-Smirnov\n",
            "2        gamma   299.882630   7.608766e-66  No Normal         Jarque-Bera\n",
            "3        gamma     0.164367   7.897148e-03  No Normal  Kolmogorov-Smirnov\n",
            "4       normal     0.468656   7.911022e-01     Normal         Jarque-Bera\n",
            "5       normal     0.068316   7.128924e-01     Normal  Kolmogorov-Smirnov\n",
            "6  exponencial  1275.686399  9.732359e-278  No Normal         Jarque-Bera\n",
            "7  exponencial     0.207528   2.959784e-04  No Normal  Kolmogorov-Smirnov\n"
          ]
        }
      ],
      "source": [
        "import numpy as np\n",
        "import pandas as pd\n",
        "from scipy.stats import jarque_bera, kstest\n",
        "\n",
        "# Definimos random seed para este reto\n",
        "np.random.seed(111)\n",
        "\n",
        "# Definir los datasets\n",
        "datasets = {\n",
        "    \"uniforme\": pd.DataFrame({\"Price\": np.random.gamma(5, 10, 100)}),\n",
        "    \"gamma\": pd.DataFrame({\"Price\": np.random.gamma(1, 2, 100)}),\n",
        "    \"normal\": pd.DataFrame({\"Price\": np.random.normal(0,1,100)}),\n",
        "    \"exponencial\": pd.DataFrame({\"Price\": np.random.exponential(1, 100)})\n",
        "}\n",
        "\n",
        "def evaluate_tests(datasets):\n",
        "    results = []\n",
        "\n",
        "    for name, data in datasets.items():\n",
        "        series = data['Price']\n",
        "\n",
        "        # Jarque-Bera test\n",
        "        jb_stat, jb_pvalue = jarque_bera(series)\n",
        "        jb_result = \"Normal\" if jb_pvalue > 0.05 else \"No Normal\"\n",
        "        results.append({\n",
        "            'Índice': name,\n",
        "            'Estadístico': jb_stat,\n",
        "            'p-valor': jb_pvalue,\n",
        "            'Resultado': jb_result,\n",
        "            'Prueba': 'Jarque-Bera'\n",
        "        })\n",
        "\n",
        "        # Kolmogorov-Smirnov test\n",
        "        ks_stat, ks_pvalue = kstest(series, 'norm', args=(series.mean(), series.std()))\n",
        "        ks_result = \"Normal\" if ks_pvalue > 0.05 else \"No Normal\"\n",
        "        results.append({\n",
        "            'Índice': name,\n",
        "            'Estadístico': ks_stat,\n",
        "            'p-valor': ks_pvalue,\n",
        "            'Resultado': ks_result,\n",
        "            'Prueba': 'Kolmogorov-Smirnov'\n",
        "        })\n",
        "\n",
        "    # Creando el dataframe de resultados\n",
        "    results_df = pd.DataFrame(results)\n",
        "    return results_df\n",
        "\n",
        "# Evaluar las pruebas y obtener los resultados\n",
        "results_df = evaluate_tests(datasets)\n",
        "\n",
        "# Mostrando el dataframe de resultados\n",
        "print(results_df)"
      ]
    },
    {
      "cell_type": "code",
      "source": [
        "import numpy as np\n",
        "import pandas as pd\n",
        "from scipy.stats import jarque_bera, kstest\n",
        "\n",
        "# Definimos random seed para este reto\n",
        "np.random.seed(111)\n",
        "\n",
        "# Definir los datasets\n",
        "datasets = {\n",
        "    \"uniforme\": pd.DataFrame({\"Price\": np.random.gamma(5, 10, 100)}),\n",
        "    \"gamma\": pd.DataFrame({\"Price\": np.random.gamma(1, 2, 100)}),\n",
        "    \"normal\": pd.DataFrame({\"Price\": np.random.normal(0, 1, 100)}),\n",
        "    \"exponencial\": pd.DataFrame({\"Price\": np.random.exponential(1, 100)})\n",
        "}\n",
        "\n",
        "# Definir TB\n",
        "def run_jarque_bera(series):\n",
        "    jb_stat, jb_pvalue = jarque_bera(series)\n",
        "    jb_result = \"Normal\" if jb_pvalue > 0.05 else \"No Normal\"\n",
        "    return jb_stat, jb_pvalue, jb_result\n",
        "\n",
        "# Definir KS\n",
        "def run_kolmogorov_smirnov(series):\n",
        "    ks_stat, ks_pvalue = kstest(series, 'norm', args=(series.mean(), series.std()))\n",
        "    ks_result = \"Normal\" if ks_pvalue > 0.05 else \"No Normal\"\n",
        "    return ks_stat, ks_pvalue, ks_result\n",
        "\n",
        "# Evaluamos los test\n",
        "def evaluate_tests(datasets):\n",
        "    results = []\n",
        "\n",
        "    for name, data in datasets.items():\n",
        "        series = data['Price']\n",
        "\n",
        "        # Run Jarque-Bera test\n",
        "        jb_stat, jb_pvalue, jb_result = run_jarque_bera(series)\n",
        "        results.append({\n",
        "            'Índice': name,\n",
        "            'Estadístico': jb_stat,\n",
        "            'p-valor': jb_pvalue,\n",
        "            'Resultado': jb_result,\n",
        "            'Prueba': 'Jarque-Bera'\n",
        "        })\n",
        "\n",
        "        # Run Kolmogorov-Smirnov test\n",
        "        ks_stat, ks_pvalue, ks_result = run_kolmogorov_smirnov(series)\n",
        "        results.append({\n",
        "            'Índice': name,\n",
        "            'Estadístico': ks_stat,\n",
        "            'p-valor': ks_pvalue,\n",
        "            'Resultado': ks_result,\n",
        "            'Prueba': 'Kolmogorov-Smirnov'\n",
        "        })\n",
        "\n",
        "    results_df = pd.DataFrame(results)\n",
        "    return results_df\n",
        "\n",
        "results_df = evaluate_tests(datasets)\n",
        "\n",
        "print(results_df)"
      ],
      "metadata": {
        "colab": {
          "base_uri": "https://localhost:8080/"
        },
        "id": "qWugD-K3_5Uf",
        "outputId": "c8d2445c-0a50-41b4-be6f-d9be939dd3e7"
      },
      "execution_count": 5,
      "outputs": [
        {
          "output_type": "stream",
          "name": "stdout",
          "text": [
            "        Índice  Estadístico        p-valor  Resultado              Prueba\n",
            "0     uniforme    34.722270   2.885061e-08  No Normal         Jarque-Bera\n",
            "1     uniforme     0.130487   6.050815e-02     Normal  Kolmogorov-Smirnov\n",
            "2        gamma   299.882630   7.608766e-66  No Normal         Jarque-Bera\n",
            "3        gamma     0.164367   7.897148e-03  No Normal  Kolmogorov-Smirnov\n",
            "4       normal     0.468656   7.911022e-01     Normal         Jarque-Bera\n",
            "5       normal     0.068316   7.128924e-01     Normal  Kolmogorov-Smirnov\n",
            "6  exponencial  1275.686399  9.732359e-278  No Normal         Jarque-Bera\n",
            "7  exponencial     0.207528   2.959784e-04  No Normal  Kolmogorov-Smirnov\n"
          ]
        }
      ]
    }
  ]
}